{
 "cells": [
  {
   "cell_type": "markdown",
   "metadata": {},
   "source": [
    "# Modes, Medians, Means\n",
    "\n",
    "The most basic measure which can be applied to data is that of looking at the mode, median and mean of data. Their basic definitions are as follows:\n",
    "\n",
    "- Mode : The value that occurs the most\n",
    "- Median: The central value\n",
    "- Mean: The average value. There are three types of mean which can be used.\n",
    "\n",
    "## Mode\n",
    "\n",
    "If we have an example integer dataset of [1,2,3,4,4,5,2,3,3], then the mode is 3 as it is the value which occurs the most.\n",
    "\n",
    "If we have a dataset of [1,2,2,3,3] then the mode is not unique, and is known as a bimodal distribution. \n",
    "\n",
    "For decimal point numbers, we divide numbers up by putting any that fall into a certain range into a \"bin\", and counting that as a frequency. This is known as a histogram and allows us to calculate a mode on a more common-place dataset. The mode will be highly dependent on how finely spaced the bins are however. \n",
    "\n",
    "## Median\n",
    "\n",
    "This is the central value of a dataset, so if we define some dataset [1,2,3,4,5,6,7] then the central value is 4. "
   ]
  },
  {
   "cell_type": "code",
   "execution_count": 30,
   "metadata": {},
   "outputs": [
    {
     "data": {
      "image/png": "[encoded data removed]",
      "text/plain": [
       "<matplotlib.figure.Figure at 0x110522470>"
      ]
     },
     "metadata": {},
     "output_type": "display_data"
    },
    {
     "name": "stdout",
     "output_type": "stream",
     "text": [
      "Mode: 38.304175\n",
      "Median: 39.598231\n"
     ]
    }
   ],
   "source": [
    "import numpy # The most ubiquitous number management package in python\n",
    "import matplotlib.pyplot as plt # The most ubiquitous plotting package.\n",
    "\n",
    "samples = 100\n",
    "#dataset=numpy.zeros(shape=samples)\n",
    "\n",
    "# Here we sample a normal distribution with a mean of 5 and a standard \n",
    "# deviation of 3.4. See the distribution notebook for more information.\n",
    "\n",
    "dataset = [numpy.random.normal(40.0,3.4) for i in numpy.arange(samples)]\n",
    "plt.hist(dataset,bins=10)\n",
    "plt.show()\n",
    "\n",
    "\n",
    "# Mode is a bit tedious. What we are doing here is:\n",
    "# 1) Creating a histogram\n",
    "# 2) Finding the bin with the highest value in it.\n",
    "# 3) Indexing the value array to find the value of that bin.\n",
    "histogram = numpy.histogram(dataset,bins=10)\n",
    "mode = numpy.argmax(histogram[0])\n",
    "mode = histogram[1][mode]\n",
    "print(\"Mode: %f\"%mode)\n",
    "\n",
    "# Mean is much easier:\n",
    "\n",
    "median = numpy.median(dataset)\n",
    "print(\"Median: %f\"%median)\n",
    "\n"
   ]
  },
  {
   "cell_type": "markdown",
   "metadata": {},
   "source": [
    "# The Mean\n",
    "\n",
    "The mean is one of the most commonly used ways of finding some average value of a dataset. It is extremely important to note that mean is sometimes not the best way of measuring a dataset, depending on how the *distribution* of the dataset. This will be explained later. \n",
    "\n",
    "There are three different types of means, and we explain them all. These are known as the pythagorean means, as initially espoused by the Pythagorean school of mathematics and philosophy, in ancient Greece.\n",
    "\n",
    "The arithmetic mean is often used erroneously where other means are more appropriate. The arithmetic mean is always the largest mean, the harmonic mean the smallest, and the geometric mean lies somewhere between.\n",
    "\n",
    "## Arithmetic Mean\n",
    "\n",
    "When someone mentions \"the mean\" of so and so dataset, this is generally the one that they mean (har har). This is defined as the addition of all the numbers in a dataset together, and divided by the number of samples in the dataset:\n",
    "\n",
    "$$ \\bar{X} = \\frac{1}{N}\\Sigma^{N}_{i=0}x_{i} $$\n",
    "\n",
    "## The Geometric Mean\n",
    "\n",
    "This is useful for comparing quantities which aren't similar, or are not from the same distribution:\n",
    "\n",
    "$$ X_{G} = \\sqrt[n]{x_1 \\times x_2 \\times \\cdots \\times x_n} $$\n",
    "\n",
    "## The Harmonic Mean\n",
    "\n",
    "This one is a bit less commonly used, but is useful for when you want to average rates in particular. It places less weight on large outliers in a group and more on the smaller ones. \n",
    "\n",
    "$$ X_{H} = \\frac{1}{\\frac{1}{x_1} + \\frac{1}{x_2} + \\frac{1}{x_3} + \\cdots + \\frac{1}{x_n}} = \\frac{1}{\\Sigma^N_{i=0}\\frac{1}{x_i}} = \\big(\\frac{1}{N}\\Sigma^N_{i=0}x^{-1}_i\\big)^{-1} $$\n",
    "\n"
   ]
  },
  {
   "cell_type": "code",
   "execution_count": 32,
   "metadata": {},
   "outputs": [
    {
     "name": "stdout",
     "output_type": "stream",
     "text": [
      "Arithmetic Mean: 39.555184\n",
      "Geometric Mean: 39.405315\n",
      "Harmonic Mean: 39.254552\n",
      "30.201989255177878\n"
     ]
    }
   ],
   "source": [
    "## We'll re-use our dataset from before.\n",
    "\n",
    "# Arithmetic mean is easy\n",
    "\n",
    "arith_mean = numpy.mean(dataset)\n",
    "\n",
    "# Geometric Mean\n",
    "# If you have negative values you need to convert to positive first!\n",
    "def geometric_mean(dataset,length):\n",
    "    res = 1.0\n",
    "    \n",
    "    for di in dataset:\n",
    "        res = res * di\n",
    "    return numpy.power(res,1.0/length)\n",
    "\n",
    "geo_mean = geometric_mean(dataset,samples)\n",
    "\n",
    "# Harmonic Mean\n",
    "\n",
    "def harmonic_mean(dataset):\n",
    "    \n",
    "    dataset = numpy.array(dataset)\n",
    "    dataset = 1.0/dataset\n",
    "    hm = numpy.sum(dataset)\n",
    "    return 1.0/(hm/len(dataset))\n",
    "\n",
    "h_mean = harmonic_mean(dataset)\n",
    "\n",
    "print(\"Arithmetic Mean: %f\"%arith_mean)\n",
    "print(\"Geometric Mean: %f\"%geo_mean)\n",
    "print(\"Harmonic Mean: %f\"%h_mean)\n",
    "print(min(dataset))"
   ]
  }
 ],
 "metadata": {
  "kernelspec": {
   "display_name": "Python 3",
   "language": "python",
   "name": "python3"
  },
  "language_info": {
   "codemirror_mode": {
    "name": "ipython",
    "version": 3
   },
   "file_extension": ".py",
   "mimetype": "text/x-python",
   "name": "python",
   "nbconvert_exporter": "python",
   "pygments_lexer": "ipython3",
   "version": "3.6.1"
  }
 },
 "nbformat": 4,
 "nbformat_minor": 2
}
