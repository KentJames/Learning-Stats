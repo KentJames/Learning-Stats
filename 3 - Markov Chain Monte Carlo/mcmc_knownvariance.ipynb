{
 "cells": [
  {
   "cell_type": "markdown",
   "metadata": {},
   "source": [
    "# Markov Chain Monte Carlo\n",
    "## Metropolis-Hastings\n",
    "\n",
    "This notebook walks through how to implement a simple markov chain monte carlo analysis using the ubiquitious Metropolis Hastings algorithm.\n",
    "\n",
    "MCMC analysis searches some N-Dimensional space for some mode of a distribution. The process is as follows:\n",
    "\n",
    "1) Choose Random Start theta\n",
    "\n",
    "2) At step $i = 1,..,N$, propose a new parameter say, $\\theta_{p}$, which is drawn from some distribution with a mean $\\theta_i$, and covariance matrix $\\Sigma$. \n",
    "\n",
    "3) Evaluate the ratio: $$r = \\frac{P(\\theta_p | y)}{P(\\theta_i | y)}$$\n",
    "\n",
    "4) Accept $\\theta_p$ with some probability.\n",
    "\n",
    "5) Repeat steps 2-4 until you converge.\n",
    "\n",
    "Quick and easy."
   ]
  },
  {
   "cell_type": "code",
   "execution_count": 15,
   "metadata": {
    "collapsed": true
   },
   "outputs": [],
   "source": [
    "import numpy\n",
    "from scipy.stats import multivariate_normal\n",
    "\n",
    "import matplotlib.pyplot as plt\n",
    "from matplotlib.lines import Line2D"
   ]
  },
  {
   "cell_type": "code",
   "execution_count": 35,
   "metadata": {},
   "outputs": [
    {
     "data": {
      "image/png": "[encoded data removed]",
      "text/plain": [
       "<matplotlib.figure.Figure at 0x112f55ef0>"
      ]
     },
     "metadata": {},
     "output_type": "display_data"
    }
   ],
   "source": [
    "#The distribution we are searching.\n",
    "Sigma = numpy.asarray([[1,0],[0,1]])/numpy.sqrt(100)\n",
    "means = numpy.asarray([4,6])\n",
    "\n",
    "n_mc = 1000 # Length of our markov chain.\n",
    "tau = 0.1 #Convergence value\n",
    "markov_chain = numpy.zeros((n_mc,2))\n",
    "markov_chain[0] = [9.234,0.567] #Random first guess\n",
    "acceptances = 0\n",
    "\n",
    "#Proposals\n",
    "\n",
    "meanp = numpy.asarray([0,0])\n",
    "covp = numpy.asarray([[1,0],[0,1]])\n",
    "\n",
    "\n",
    "for i in numpy.arange(n_mc-1):\n",
    "    \n",
    "    current_mean = markov_chain[i]\n",
    "    proposed_mean = current_mean + numpy.random.multivariate_normal(meanp,covp)\n",
    "    \n",
    "    pdf_curr = multivariate_normal.pdf(current_mean,means,Sigma)\n",
    "    pdf_proposed = multivariate_normal.pdf(proposed_mean,means,Sigma)\n",
    "    ratio = pdf_proposed / pdf_curr\n",
    "    \n",
    "    rand = numpy.random.rand()\n",
    "    \n",
    "    if ratio > rand:\n",
    "        markov_chain[i+1] = proposed_mean\n",
    "        acceptances += 1\n",
    "    else:\n",
    "        markov_chain[i+1] = current_mean\n",
    "        \n",
    "    \n",
    "    \n",
    "#Calculate our acceptance ratio\n",
    "\n",
    "acceptance_ratio = acceptances / n_mc\n",
    "\n",
    "fig=plt.figure()\n",
    "ax = fig.add_subplot(111)\n",
    "\n",
    "x = markov_chain[:,0]\n",
    "y = markov_chain[:,1]\n",
    "\n",
    "line = Line2D(x,y)\n",
    "ax.add_line(line)\n",
    "ax.set_xlim(0,10)\n",
    "ax.set_ylim(0,10)\n",
    "plt.show()"
   ]
  },
  {
   "cell_type": "code",
   "execution_count": null,
   "metadata": {
    "collapsed": true
   },
   "outputs": [],
   "source": []
  }
 ],
 "metadata": {
  "kernelspec": {
   "display_name": "Python 3",
   "language": "python",
   "name": "python3"
  },
  "language_info": {
   "codemirror_mode": {
    "name": "ipython",
    "version": 3
   },
   "file_extension": ".py",
   "mimetype": "text/x-python",
   "name": "python",
   "nbconvert_exporter": "python",
   "pygments_lexer": "ipython3",
   "version": "3.6.1"
  }
 },
 "nbformat": 4,
 "nbformat_minor": 2
}
