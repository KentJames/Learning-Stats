{
 "cells": [
  {
   "cell_type": "markdown",
   "metadata": {},
   "source": [
    "# Gaussian Clustering with Expectation Maximization\n",
    "\n",
    "Let's generate two gaussian clusters and try seperating these into two seperate clusters of data. These clusters can represent any datatype, however the key in this notebook is to introduce various Bayesian methods of seperating them.\n",
    "\n",
    "Here we will introduce the Expectation Maximization (EM) algorithm. First let's generate some artificial clusters to try and cluster.\n",
    "\n",
    "In this example we will assume we know the number of overall clusters in our dataset to begin with. If we don't know the number of clusters we can use an additional parameter and maximise as we would usually. This will be covered seperately."
   ]
  },
  {
   "cell_type": "code",
   "execution_count": 89,
   "metadata": {
    "scrolled": true
   },
   "outputs": [
    {
     "data": {
      "image/png": "[encoded data removed]",
      "text/plain": [
       "<matplotlib.figure.Figure at 0x112cc8a90>"
      ]
     },
     "metadata": {},
     "output_type": "display_data"
    }
   ],
   "source": [
    "import numpy\n",
    "from scipy import linalg\n",
    "import matplotlib.pyplot as plt\n",
    "import matplotlib\n",
    "\n",
    "mean_1 = [-2.0,4.0]\n",
    "mean_2 = [-3.5,-2.0]\n",
    "mean_3 = [7.5,-5.0]\n",
    "\n",
    "cov_1 = [[1,0],\n",
    "         [0,1]]\n",
    "cov_2 = [[4,0],\n",
    "         [0,4]]\n",
    "cov_3 = [[0.1,0],\n",
    "         [0,0.1]]\n",
    "samples = 100\n",
    "\n",
    "dataset_1 = [numpy.random.multivariate_normal(mean_1,cov_1) for i in range(samples)]\n",
    "dataset_2 = [numpy.random.multivariate_normal(mean_2,cov_2) for i in range(samples)]\n",
    "dataset_3 = [numpy.random.multivariate_normal(mean_3,cov_3) for i in range(samples)]\n",
    "dataset_total = numpy.concatenate((dataset_1, dataset_2, dataset_3))\n",
    "\n",
    "plt.plot(dataset_total[:,0],dataset_total[:,1],'x')\n",
    "plt.xlim(-10,10)\n",
    "plt.ylim(-10,10)\n",
    "plt.show()"
   ]
  },
  {
   "cell_type": "markdown",
   "metadata": {},
   "source": [
    "# EM Algorithm\n",
    "\n",
    "The expectation maximization algorithm is split into two steps:\n",
    "\n",
    "1) Expectation step: calculate the probability that a point belongs to each cluster. This is done for every data point and every proposed cluster.\n",
    "\n",
    "2) Maximisation step: maximise the likelihood so that we converge on the correct means and variances for each cluster.\n",
    "\n"
   ]
  },
  {
   "cell_type": "code",
   "execution_count": 93,
   "metadata": {
    "collapsed": true,
    "scrolled": true
   },
   "outputs": [],
   "source": [
    "from scipy.stats import multivariate_normal as mvn\n",
    "\n",
    "def covariancef(X,Y,mean_x,mean_y,N):\n",
    "    sum = 0.0\n",
    "    j = 0\n",
    "    for x,y in zip(X,Y):\n",
    "        sum += ((x - mean_x)*(y - mean_y))\n",
    "        j += 1\n",
    "    return sum/N\n",
    "\n",
    "\n",
    "## Index key:\n",
    "# i - classes\n",
    "# j - data\n",
    "\n",
    "def expectation_step(data,means,sigmas,no_classes,no_data):\n",
    "   \n",
    "    r = numpy.zeros(shape=(no_classes,no_data))\n",
    "    for i in range(no_classes):\n",
    "        for j in range(no_data):\n",
    "            denom = 0.0\n",
    "            for ii in range(no_classes):\n",
    "                denom += mvn.pdf(data[j],means[ii],numpy.diagflat(numpy.exp(sigmas[ii])))\n",
    "            r[i,j] = mvn.pdf(data[j],means[i],numpy.diagflat(numpy.exp(sigmas[i])))/denom\n",
    "    return r\n",
    "\n",
    "def maximization_step(data,r,no_classes,no_data):\n",
    "    \n",
    "    # What we are looking to maximise the likelihood of\n",
    "    means = numpy.zeros(shape=(no_classes,2))\n",
    "    sigmas = numpy.zeros(shape=(no_classes,2))\n",
    "    \n",
    "    # Calculate Weights\n",
    "    weights = numpy.zeros(shape=(no_classes,no_data))\n",
    "    for i in range(no_classes):\n",
    "        for j in range(no_data):\n",
    "            weights[i,j] = r[i,j]/numpy.sum(r[i,:])\n",
    "    # Calculate new cluster parameters.\n",
    "    for i in range(no_classes):\n",
    "        for j in range(no_data):\n",
    "            #print(weights[i,j]*data[i,j])\n",
    "            \n",
    "            means[i,:] += weights[i,j]*data[j,:]\n",
    "        sigmas[i,:] = numpy.log(numpy.sum(weights[i,:]) * covariancef(data[i,:],data[i,:],means[i],means[i],no_data))\n",
    "    return means,sigmas\n",
    "\n",
    "# General Parameters\n",
    "max_iters=20\n",
    "no_cent = 3\n",
    "\n",
    "# For the E-Step:\n",
    "mean_expec = numpy.zeros(shape=(no_cent,dataset_total.shape[0],2))\n",
    "var_expec = numpy.zeros(shape=(no_cent,dataset_total.shape[0],2))\n",
    "\n",
    "# For the M-Step:\n",
    "mu_chain = numpy.zeros(shape=(no_cent, max_iters,2))\n",
    "var_chain = numpy.zeros(shape=(no_cent, max_iters,2))\n",
    "mu_chain[0,:,:] = 1\n",
    "mu_chain[1,:,:] = -1\n",
    "mu_chain[2,:,0] = 5\n",
    "mu_chain[2,:,1] = -2\n",
    "var_chain[:,:,:] = 1\n",
    "\n",
    "\n",
    "# Find Clusters\n",
    "for i in range(max_iters-1):\n",
    "    r = expectation_step(dataset_total, mu_chain[:,i],var_chain[:,i],no_cent,dataset_total.shape[0])\n",
    "    new_means,new_sigmas = maximization_step(dataset_total,r,no_cent,dataset_total.shape[0])\n",
    "    mu_chain [:,i+1,:] = new_means\n",
    "    var_chain [:,i+1,:] = new_sigmas\n",
    "                          \n",
    "                     \n",
    "                     \n",
    "                "
   ]
  },
  {
   "cell_type": "markdown",
   "metadata": {},
   "source": [
    "Print our cluster means and covariances:"
   ]
  },
  {
   "cell_type": "code",
   "execution_count": 94,
   "metadata": {},
   "outputs": [
    {
     "name": "stdout",
     "output_type": "stream",
     "text": [
      "[[-1.88929343  3.8676201 ]\n",
      " [-3.31021483 -1.82701196]\n",
      " [ 7.47142917 -5.02856056]]\n",
      "[[ 2.7468022   4.35467601]\n",
      " [ 2.35881207  3.17256709]\n",
      " [ 1.81281667  1.78150145]]\n"
     ]
    }
   ],
   "source": [
    "#Cluster Means\n",
    "print(mu_chain[:,-1,:])\n",
    "\n",
    "#Cluster Variances (some numerical instability here?)\n",
    "\n",
    "print(1/numpy.sqrt(numpy.exp(var_chain[:,-1,:])))"
   ]
  },
  {
   "cell_type": "markdown",
   "metadata": {
    "collapsed": true
   },
   "source": [
    "## Split data into clusters / Plot\n",
    "\n",
    "Next is to use our derived means and covariance matrices to split the data into our clusters and draw our clusters.\n",
    "\n",
    "We'll run the expectation step one last time to get the probabilities of a point belonging to a cluster. "
   ]
  },
  {
   "cell_type": "code",
   "execution_count": 95,
   "metadata": {
    "scrolled": true
   },
   "outputs": [
    {
     "name": "stdout",
     "output_type": "stream",
     "text": [
      "(3, 300)\n",
      "[[ 1.00717232  0.00562578]\n",
      " [ 0.00562578  0.69665658]]\n",
      "[[ 3.35859758  0.02156948]\n",
      " [ 0.02156948  3.62171437]]\n",
      "[[ 0.42760262 -0.06181827]\n",
      " [-0.06181827  0.10772145]]\n"
     ]
    },
    {
     "data": {
      "image/png": "[encoded data removed]",
      "text/plain": [
       "<matplotlib.figure.Figure at 0x1127d3d68>"
      ]
     },
     "metadata": {},
     "output_type": "display_data"
    }
   ],
   "source": [
    "lastr = expectation_step(dataset_total, mu_chain[:,-1], var_chain[:,-1], no_cent,dataset_total.shape[0])\n",
    "print(lastr.shape)\n",
    "lastr[2,200:230]\n",
    "\n",
    "cluster_locations = numpy.zeros(shape=dataset_total.shape[0])\n",
    "cluster_locations = numpy.argmax(lastr,axis=0)\n",
    "\n",
    "splot = plt.subplot(1,1,1)\n",
    "# Seperate dataset into clusters, plot seperately.\n",
    "for j in numpy.arange(no_cent):\n",
    "    ind = numpy.where(cluster_locations==j)\n",
    "    data = dataset_total[ind,:]\n",
    "    data = data[0,:,:]\n",
    "    ax = plt.scatter(data[:,0],data[:,1])\n",
    "    cov = numpy.cov(data[:,0],data[:,1])\n",
    "    print(cov)\n",
    "    \n",
    "    # Plot ellipses denoting covariance.    \n",
    "    v,w = linalg.eigh(cov)\n",
    "    v = 2. * numpy.sqrt(2.) * numpy.sqrt(v)\n",
    "    u = w[0] / linalg.norm(w[0])\n",
    "    angle = numpy.arctan(u[1]/u[0])\n",
    "    angle = 180. * angle/numpy.pi\n",
    "    \n",
    "    ell = matplotlib.patches.Ellipse(mu_chain[j,-1,:],v[0],v[1],180. + angle)\n",
    "    ell.set_clip_box(splot)\n",
    "    ell.set_alpha(0.5)\n",
    "    splot.add_artist(ell)\n",
    "\n",
    "# Plot cluster centres as cross.\n",
    "plt.scatter(mu_chain[:,-1,0],mu_chain[:,-1,1],marker='x')    \n",
    "plt.title(\"Gaussian Clusters\")\n",
    "plt.xlim((-10,10))\n",
    "plt.ylim((-10,10))\n",
    "plt.show()"
   ]
  },
  {
   "cell_type": "code",
   "execution_count": null,
   "metadata": {
    "collapsed": true
   },
   "outputs": [],
   "source": []
  }
 ],
 "metadata": {
  "kernelspec": {
   "display_name": "Python 3",
   "language": "python",
   "name": "python3"
  },
  "language_info": {
   "codemirror_mode": {
    "name": "ipython",
    "version": 3
   },
   "file_extension": ".py",
   "mimetype": "text/x-python",
   "name": "python",
   "nbconvert_exporter": "python",
   "pygments_lexer": "ipython3",
   "version": "3.6.1"
  }
 },
 "nbformat": 4,
 "nbformat_minor": 2
}
