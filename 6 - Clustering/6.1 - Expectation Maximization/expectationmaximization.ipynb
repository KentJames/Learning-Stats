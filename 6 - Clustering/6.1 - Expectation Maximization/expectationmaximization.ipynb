{
 "cells": [
  {
   "cell_type": "markdown",
   "metadata": {},
   "source": [
    "# Gaussian Clustering with Expectation Maximization\n",
    "\n",
    "Let's generate three gaussian clusters of varying size/location and try seperating these into seperate clusters of data. These clusters can represent any datatype, however the key in this notebook is to introduce a Bayesian method of seperating them.\n",
    "\n",
    "Here we will introduce the Expectation Maximization (EM) algorithm. First let's generate some artificial clusters to try and cluster.\n",
    "\n",
    "In this example we will assume we know the number of overall clusters in our dataset to begin with. If we don't know the number of clusters we can use an additional parameter and maximise as we would usually. This will be covered in another notebook.\n",
    "\n",
    "First let's generate our data: "
   ]
  },
  {
   "cell_type": "code",
   "execution_count": 106,
   "metadata": {
    "scrolled": false
   },
   "outputs": [
    {
     "data": {
      "image/png": "[encoded data removed]",
      "text/plain": [
       "<matplotlib.figure.Figure at 0x112d9a588>"
      ]
     },
     "metadata": {},
     "output_type": "display_data"
    }
   ],
   "source": [
    "import numpy\n",
    "from scipy import linalg\n",
    "import matplotlib.pyplot as plt\n",
    "import matplotlib\n",
    "\n",
    "mean_1 = [-2.0,4.0]\n",
    "mean_2 = [-3.5,-2.0]\n",
    "mean_3 = [7.5,-5.0]\n",
    "\n",
    "cov_1 = [[1,0],\n",
    "         [0,1]]\n",
    "cov_2 = [[4,0],\n",
    "         [0,4]]\n",
    "cov_3 = [[0.1,0],\n",
    "         [0,0.1]]\n",
    "samples = 100\n",
    "\n",
    "dataset_1 = [numpy.random.multivariate_normal(mean_1,cov_1) for i in range(samples)]\n",
    "dataset_2 = [numpy.random.multivariate_normal(mean_2,cov_2) for i in range(samples)]\n",
    "dataset_3 = [numpy.random.multivariate_normal(mean_3,cov_3) for i in range(samples)]\n",
    "dataset_total = numpy.concatenate((dataset_1, dataset_2, dataset_3))\n",
    "\n",
    "plt.plot(dataset_total[:,0],dataset_total[:,1],'x')\n",
    "plt.xlim(-10,10)\n",
    "plt.ylim(-10,10)\n",
    "plt.show()"
   ]
  },
  {
   "cell_type": "markdown",
   "metadata": {},
   "source": [
    "# EM Algorithm\n",
    "\n",
    "Expectation maximization is a probabilistic method of modelling the data. Here we want to calculate the probability of some set of $k$ clusters means given a set of $n$ data, which are our points plotted above:\n",
    "\n",
    "$$ P(x_1,\\dots,x_n | \\mu_1,\\dots,\\mu_k) = \\prod^n_j P(x_j | \\mu_1,\\dots,\\mu_k) $$\n",
    "\n",
    "If let all our cluster be absorbed into a single piece of notation for simplicity:\n",
    "\n",
    "$$ P(x_1,\\dots,x_n | \\theta)=  \\prod^n_{j=1} P(x_j | \\theta) $$\n",
    "\n",
    "We now need to marginalise over the clusters, which is to say: We need to calculate the probability of each data point belonging to each clusters, so for our three cluster example, we calculate three probabilities:\n",
    "\n",
    "$$  P(x_1,\\dots,x_n | \\theta) = \\prod^n_{j=1} \\sum^K_{i=0} P(x_j, y_i = j | \\theta) $$\n",
    "\n",
    "Which can be simplified to:\n",
    "\n",
    "$$  P(x_1,\\dots,x_n | \\theta) = \\prod^n_{j=1} \\sum^K_{i=0} P(x_j | y_i = j \\theta) $$\n",
    "\n",
    "And as we are modelling our data as a mixture of gaussian mixtures:\n",
    "\n",
    "$$  P(x_1,\\dots,x_n | \\theta) = \\prod^n_{j=1} \\sum^K_{i=0} \\mathcal{N}(\\mu_i, \\Sigma) $$ \n",
    "\n",
    "The expectation maximization algorithm is split into two steps:\n",
    "\n",
    "1) Expectation step: calculate the probability that a point belongs to each cluster. This is done for every data point and every proposed cluster. Here we calculate the marginal likelihood:\n",
    "\n",
    "$$ P(y_j = i | x_j, \\theta^{t-1} ) \\propto P(x_j | y_j = i, \\theta^{t-1}) $$\n",
    "\n",
    "$$ P(y_j = i | x_j, \\theta^{t-1} ) = \\frac{P(x_j | y_j = i, \\theta^{t-1})}{\\sum^K_{i=1}P(x_j | y_j = i, \\theta^{t-1})}$$ \n",
    "\n",
    "We denote this ratio as $r$:\n",
    "\n",
    "$$ r = \\frac{P(x_j | y_j = i, \\theta^{t-1})}{\\sum^K_{i=1}P(x_j | y_j = i, \\theta^{t-1})} $$\n",
    "\n",
    "2) Maximisation step: maximise the likelihood so that we converge on the correct means and variances for each cluster. We calculate the new mean and variance for our current iteration based on the values of the previous iteration.\n",
    "\n",
    "$$ Q(\\theta^t | \\theta^{t-1} ) = \\sum^N_{k=1} \\sum^K_{i=1} P(y_j = i | x_j, \\theta^{t-1})ln( P (x_j, y_j = i | \\theta^t) $$\n",
    "\n",
    "$$ u^t = \\sum^N_{j=1} r_j x_j $$\n",
    "\n",
    "$$ \\Sigma^t = \\sum^N_{j=1} r_j Cov(x_j,x_j) $$\n",
    "\n",
    "We repeat this over a number of iterations and calculate the probability of each data point belonging to each cluster. It is not difficult to see that this can scale poorly for very large data sizes! However there are several areas where this code can be parallelised and will run relatively quickly if written in a compiled language such as C/C++.\n"
   ]
  },
  {
   "cell_type": "code",
   "execution_count": 107,
   "metadata": {
    "collapsed": true,
    "scrolled": true
   },
   "outputs": [],
   "source": [
    "from scipy.stats import multivariate_normal as mvn\n",
    "\n",
    "def covariancef(X,Y,mean_x,mean_y,N):\n",
    "    sum = 0.0\n",
    "    j = 0\n",
    "    for x,y in zip(X,Y):\n",
    "        sum += ((x - mean_x)*(y - mean_y))\n",
    "        j += 1\n",
    "    return sum/N\n",
    "\n",
    "\n",
    "## Index key:\n",
    "# i - classes\n",
    "# j - data\n",
    "\n",
    "def expectation_step(data,means,sigmas,no_classes,no_data):\n",
    "   \n",
    "    r = numpy.zeros(shape=(no_classes,no_data))\n",
    "    for i in range(no_classes):\n",
    "        for j in range(no_data):\n",
    "            denom = 0.0\n",
    "            for ii in range(no_classes):\n",
    "                denom += mvn.pdf(data[j],means[ii],numpy.diagflat(numpy.exp(sigmas[ii])))\n",
    "            r[i,j] = mvn.pdf(data[j],means[i],numpy.diagflat(numpy.exp(sigmas[i])))/denom\n",
    "    return r\n",
    "\n",
    "def maximization_step(data,r,no_classes,no_data):\n",
    "    \n",
    "    # What we are looking to maximise the likelihood of\n",
    "    means = numpy.zeros(shape=(no_classes,2))\n",
    "    sigmas = numpy.zeros(shape=(no_classes,2))\n",
    "    \n",
    "    # Calculate Weights\n",
    "    weights = numpy.zeros(shape=(no_classes,no_data))\n",
    "    for i in range(no_classes):\n",
    "        for j in range(no_data):\n",
    "            weights[i,j] = r[i,j]/numpy.sum(r[i,:])\n",
    "    # Calculate new cluster parameters.\n",
    "    for i in range(no_classes):\n",
    "        for j in range(no_data):\n",
    "            means[i,:] += weights[i,j]*data[j,:]\n",
    "        sigmas[i,:] = numpy.log(numpy.sum(weights[i,:]) * covariancef(data[i,:],data[i,:],means[i],means[i],no_data))\n",
    "    return means,sigmas\n",
    "\n",
    "# General Parameters\n",
    "max_iters=20\n",
    "no_cent = 3\n",
    "\n",
    "# For the E-Step:\n",
    "mean_expec = numpy.zeros(shape=(no_cent,dataset_total.shape[0],2))\n",
    "var_expec = numpy.zeros(shape=(no_cent,dataset_total.shape[0],2))\n",
    "\n",
    "# For the M-Step:\n",
    "mu_chain = numpy.zeros(shape=(no_cent, max_iters,2))\n",
    "var_chain = numpy.zeros(shape=(no_cent, max_iters,2))\n",
    "mu_chain[0,:,:] = 1\n",
    "mu_chain[1,:,:] = -1\n",
    "mu_chain[2,:,0] = 5\n",
    "mu_chain[2,:,1] = -2\n",
    "var_chain[:,:,:] = 1\n",
    "\n",
    "\n",
    "# Find Clusters over N iterations\n",
    "for i in range(max_iters-1):\n",
    "    r = expectation_step(dataset_total, mu_chain[:,i],var_chain[:,i],no_cent,dataset_total.shape[0])\n",
    "    new_means,new_sigmas = maximization_step(dataset_total,r,no_cent,dataset_total.shape[0])\n",
    "    mu_chain [:,i+1,:] = new_means\n",
    "    var_chain [:,i+1,:] = new_sigmas                \n",
    "                "
   ]
  },
  {
   "cell_type": "markdown",
   "metadata": {},
   "source": [
    "Print our cluster means and covariances:"
   ]
  },
  {
   "cell_type": "code",
   "execution_count": 108,
   "metadata": {},
   "outputs": [
    {
     "name": "stdout",
     "output_type": "stream",
     "text": [
      "[[-2.00057843  3.97770589]\n",
      " [-3.80638274 -2.40475345]\n",
      " [ 7.51272874 -4.94920636]]\n",
      "[[ 2.44020383  2.56847484]\n",
      " [ 2.23314127  2.91910688]\n",
      " [ 2.07394178  1.45212321]]\n"
     ]
    }
   ],
   "source": [
    "#Cluster Means\n",
    "print(\"Means:\")\n",
    "print(mu_chain[:,-1,:])\n",
    "\n",
    "#Cluster Variances (some numerical instability here?)\n",
    "print(\"Clusters: \")\n",
    "print(1/numpy.sqrt(numpy.exp(var_chain[:,-1,:])))"
   ]
  },
  {
   "cell_type": "markdown",
   "metadata": {
    "collapsed": true
   },
   "source": [
    "## Split data into clusters / Plot\n",
    "\n",
    "Next is to use our derived means and covariance matrices to split the data into our clusters and draw our clusters.\n",
    "\n",
    "We'll run the expectation step one last time to get the probabilities of a point belonging to a cluster."
   ]
  },
  {
   "cell_type": "code",
   "execution_count": 109,
   "metadata": {},
   "outputs": [
    {
     "name": "stdout",
     "output_type": "stream",
     "text": [
      "(3, 300)\n"
     ]
    }
   ],
   "source": [
    "lastr = expectation_step(dataset_total, mu_chain[:,-1], var_chain[:,-1], no_cent,dataset_total.shape[0])\n",
    "print(lastr.shape)\n",
    "lastr[2,200:230]\n",
    "\n",
    "cluster_locations = numpy.zeros(shape=dataset_total.shape[0])\n",
    "cluster_locations = numpy.argmax(lastr,axis=0)"
   ]
  },
  {
   "cell_type": "markdown",
   "metadata": {},
   "source": [
    "## Plotting\n",
    "\n",
    "We can plot the data seperately by just using the argmax of the data, as described in our mathematics above. \n",
    "\n",
    "Additionally it is also helpful to plot the ellipses which denote the covariances of our dataset. This can be done using the covariance matrix which mathematically describes a \"quadric\" or quadratic surface in matrix form. \n",
    "\n",
    "In the same way we can do principial component analysis by diagonalising the covariance matrix, we do the exact same here:\n",
    "\n",
    "$$ \\Sigma = VLV^T $$\n",
    "\n",
    "After find the eigenvectors and eigenvalues, we can calculate the shape of the ellipse by modelling it as N orthogonal vectors scaled using the eigenvalues as:\n",
    "\n",
    "$$ W = 2\\sqrt{2W} $$ \n",
    "\n",
    "The eigenvalues give us our sense of scale or size of the ellipse, but the eigenvectors describe the overall orientation. Firstly it useful to divide by the norm of the vector to recover our eigenvectors in units of the basis vectors:\n",
    "\n",
    "$$ V^\\prime = \\frac{V}{||V||} $$\n",
    "\n",
    "We now have some vector, in this case of two dimensions, which we can do a simple arctan of to find the angle of the ellipse:\n",
    "\n",
    "$$ \\phi = tan^{-1}\\Bigg[\\frac{V^{\\prime}_{0}}{V^{\\prime}_{1}} \\Bigg]$$\n",
    "\n",
    "Matplotlib expects the angle in angles so we can convert from radians to degrees using the simple:\n",
    "\n",
    "$$ 180 + \\frac{\\phi}{\\pi} $$\n",
    "\n",
    "We then add it to the plot along with our clusters and mean centres. Easy!"
   ]
  },
  {
   "cell_type": "code",
   "execution_count": 110,
   "metadata": {
    "scrolled": true
   },
   "outputs": [
    {
     "name": "stdout",
     "output_type": "stream",
     "text": [
      "[-0.85656009  0.5160473 ]\n",
      "[-0.40057328 -0.91626473]\n",
      "[ 0.54084633 -0.84112142]\n"
     ]
    },
    {
     "data": {
      "image/png": "[encoded data removed]",
      "text/plain": [
       "<matplotlib.figure.Figure at 0x11240b0f0>"
      ]
     },
     "metadata": {},
     "output_type": "display_data"
    }
   ],
   "source": [
    "splot = plt.subplot(1,1,1)\n",
    "# Seperate dataset into clusters, plot seperately.\n",
    "for j in numpy.arange(no_cent):\n",
    "    ind = numpy.where(cluster_locations==j)\n",
    "    data = dataset_total[ind,:]\n",
    "    data = data[0,:,:]\n",
    "    ax = plt.scatter(data[:,0],data[:,1])\n",
    "    cov = numpy.cov(data[:,0],data[:,1])\n",
    "        \n",
    "    # Plot ellipses denoting covariance.    \n",
    "    w,v = linalg.eigh(cov)\n",
    "    w = 2. * numpy.sqrt(2.) * numpy.sqrt(w)\n",
    "    u = v[0] / linalg.norm(v[0])\n",
    "    angle = numpy.arctan(v[0,1]/v[0,0])\n",
    "    angle = 180. * angle/numpy.pi\n",
    "    \n",
    "    ell = matplotlib.patches.Ellipse(mu_chain[j,-1,:],w[0],w[1],180. + angle)\n",
    "    ell.set_clip_box(splot)\n",
    "    ell.set_alpha(0.5)\n",
    "    splot.add_artist(ell)\n",
    "\n",
    "# Plot cluster centres as cross.\n",
    "plt.scatter(mu_chain[:,-1,0],mu_chain[:,-1,1],marker='x')    \n",
    "plt.title(\"Gaussian Clusters\")\n",
    "plt.xlim((-10,10))\n",
    "plt.ylim((-10,10))\n",
    "plt.show()"
   ]
  },
  {
   "cell_type": "code",
   "execution_count": null,
   "metadata": {
    "collapsed": true
   },
   "outputs": [],
   "source": []
  }
 ],
 "metadata": {
  "kernelspec": {
   "display_name": "Python 3",
   "language": "python",
   "name": "python3"
  },
  "language_info": {
   "codemirror_mode": {
    "name": "ipython",
    "version": 3
   },
   "file_extension": ".py",
   "mimetype": "text/x-python",
   "name": "python",
   "nbconvert_exporter": "python",
   "pygments_lexer": "ipython3",
   "version": "3.6.1"
  }
 },
 "nbformat": 4,
 "nbformat_minor": 2
}
