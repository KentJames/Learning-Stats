{
 "cells": [
  {
   "cell_type": "markdown",
   "metadata": {},
   "source": [
    "# The Famous Lighthouse Problem\n",
    "\n",
    "Described initially by Steve Gull and supposedly given to undergraduates at Cambridge (he told me that was a white lie!), this excellent bayesian inference problem tries to find a lighthouse off the shore of a coast. \n",
    "\n",
    "A likelihood is defined, and then simply sampled to find the maximum negative log likelihood. This shows how remarkably easy bayesian inference is. Deriving a likelihood is the difficult part."
   ]
  },
  {
   "cell_type": "code",
   "execution_count": 135,
   "metadata": {},
   "outputs": [
    {
     "name": "stdout",
     "output_type": "stream",
     "text": [
      "9.84381602385\n"
     ]
    },
    {
     "data": {
      "image/png": "[encoded data removed]",
      "text/plain": [
       "<matplotlib.figure.Figure at 0x10fd65a58>"
      ]
     },
     "metadata": {},
     "output_type": "display_data"
    }
   ],
   "source": [
    "## Sivia Chapter 3!\n",
    "\n",
    "import numpy\n",
    "import matplotlib.pyplot as plt\n",
    "from scipy.optimize import minimize\n",
    "\n",
    "lighthouse_position_b = 12 #We know the distance from the coast.\n",
    "lighthouse_position_a = 10 #True position along coast (what we will infer)\n",
    "\n",
    "## Draw samples from a cauchy distribution\n",
    "s =lighthouse_position_a + lighthouse_position_b*numpy.random.standard_cauchy(10000)\n",
    "s = s[(s>-200) & (s<200)]\n",
    "print(s.mean())\n",
    "plt.hist(s, bins=1000)\n",
    "plt.show()"
   ]
  },
  {
   "cell_type": "code",
   "execution_count": 136,
   "metadata": {},
   "outputs": [
    {
     "name": "stdout",
     "output_type": "stream",
     "text": [
      "-50910.5637289\n",
      "-34765.9182602\n",
      "9.9\n"
     ]
    }
   ],
   "source": [
    "## Lets use log likelihoods\n",
    "def calculate_likelihood(a,b,data):\n",
    "    return numpy.sum(numpy.log( b / (numpy.square(b) + numpy.square(data - a))))\n",
    "        \n",
    "#vector_L = numpy.vectorize(calculate_likelihood)\n",
    "print(calculate_likelihood(19.7, 1, s)) # Seems reasonable!\n",
    "\n",
    "## Brute Force maximum...\n",
    "\n",
    "a_potential = numpy.arange(-20,20,0.1)\n",
    "likelihoods = numpy.empty(shape=(0,1))\n",
    "for a in a_potential:\n",
    "    likelihoods = numpy.insert(likelihoods,0,calculate_likelihood(a,10, s))\n",
    "\n",
    "print(likelihoods.max())\n",
    "argmax = likelihoods.argmax()\n",
    "print(20 - (argmax+1) * 0.1)\n",
    "#numpy.fmax(calculate_likelihood(a_potential, lighthouse_position_b, s))"
   ]
  },
  {
   "cell_type": "code",
   "execution_count": null,
   "metadata": {
    "collapsed": true
   },
   "outputs": [],
   "source": []
  },
  {
   "cell_type": "code",
   "execution_count": null,
   "metadata": {
    "collapsed": true
   },
   "outputs": [],
   "source": []
  }
 ],
 "metadata": {
  "kernelspec": {
   "display_name": "Python 3",
   "language": "python",
   "name": "python3"
  },
  "language_info": {
   "codemirror_mode": {
    "name": "ipython",
    "version": 3
   },
   "file_extension": ".py",
   "mimetype": "text/x-python",
   "name": "python",
   "nbconvert_exporter": "python",
   "pygments_lexer": "ipython3",
   "version": "3.6.1"
  }
 },
 "nbformat": 4,
 "nbformat_minor": 2
}
